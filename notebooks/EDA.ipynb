{
 "cells": [
  {
   "cell_type": "code",
   "execution_count": 1,
   "metadata": {
    "ExecuteTime": {
     "end_time": "2020-11-22T20:22:29.930403Z",
     "start_time": "2020-11-22T20:22:17.937657Z"
    }
   },
   "outputs": [],
   "source": [
    "import warnings\n",
    "\n",
    "import pandas as pd\n",
    "import numpy as np\n",
    "import matplotlib.pyplot as plt\n",
    "import datetime\n",
    "\n",
    "# for the model\n",
    "from sklearn.model_selection import train_test_split\n",
    "from sklearn.metrics import roc_auc_score\n",
    "from sklearn.pipeline import Pipeline\n",
    "from sklearn.model_selection import KFold, GridSearchCV\n",
    "from sklearn.metrics import accuracy_score, make_scorer\n",
    "\n",
    "\n",
    "# from feature-engine\n",
    "#from feature_engine import missing_data_imputers as mdi\n",
    "from feature_engine import missing_data_imputers as mdi\n",
    "from feature_engine import discretisers as dsc\n",
    "from feature_engine import categorical_encoders as ce\n",
    "import feature_engine.missing_data_imputers as mdi\n",
    "from feature_engine.categorical_encoders import RareLabelCategoricalEncoder\n",
    "\n",
    "# to visualise al the columns in the dataframe\n",
    "pd.pandas.set_option('display.max_columns', None)"
   ]
  },
  {
   "cell_type": "code",
   "execution_count": 2,
   "metadata": {
    "ExecuteTime": {
     "end_time": "2020-11-22T20:22:29.954399Z",
     "start_time": "2020-11-22T20:22:29.949538Z"
    }
   },
   "outputs": [],
   "source": [
    "from pathlib import Path\n",
    "models_folder = Path(\"/Users/joaosantos/Documents/Projects/Insurance_Churn/Insurance_Churn/models/\")\n",
    "data_folder = Path(\"/Users/joaosantos/Documents/Projects/Insurance_Churn/Insurance_Churn/data/\")"
   ]
  },
  {
   "cell_type": "code",
   "execution_count": 2,
   "metadata": {},
   "outputs": [],
   "source": [
    "import utils as util"
   ]
  },
  {
   "cell_type": "code",
   "execution_count": 2,
   "metadata": {},
   "outputs": [],
   "source": [
    "import pandas as pd"
   ]
  },
  {
   "cell_type": "markdown",
   "metadata": {},
   "source": [
    "Review this :https://www.kaggle.com/udita3996/eda-woe-iv-calc-model-training"
   ]
  },
  {
   "cell_type": "code",
   "execution_count": 3,
   "metadata": {
    "ExecuteTime": {
     "end_time": "2020-11-18T17:04:37.815923Z",
     "start_time": "2020-11-18T17:04:37.680224Z"
    },
    "scrolled": true
   },
   "outputs": [
    {
     "name": "stdout",
     "output_type": "stream",
     "text": [
      "(32561, 15)\n"
     ]
    },
    {
     "data": {
      "text/html": [
       "<div>\n",
       "<style scoped>\n",
       "    .dataframe tbody tr th:only-of-type {\n",
       "        vertical-align: middle;\n",
       "    }\n",
       "\n",
       "    .dataframe tbody tr th {\n",
       "        vertical-align: top;\n",
       "    }\n",
       "\n",
       "    .dataframe thead th {\n",
       "        text-align: right;\n",
       "    }\n",
       "</style>\n",
       "<table border=\"1\" class=\"dataframe\">\n",
       "  <thead>\n",
       "    <tr style=\"text-align: right;\">\n",
       "      <th></th>\n",
       "      <th>age</th>\n",
       "      <th>workclass</th>\n",
       "      <th>fnlgt</th>\n",
       "      <th>education</th>\n",
       "      <th>education-num</th>\n",
       "      <th>marital-status</th>\n",
       "      <th>occupation</th>\n",
       "      <th>relationship</th>\n",
       "      <th>race</th>\n",
       "      <th>sex</th>\n",
       "      <th>capital-gain</th>\n",
       "      <th>capital-loss</th>\n",
       "      <th>hours-per-week</th>\n",
       "      <th>native-country</th>\n",
       "      <th>salary</th>\n",
       "    </tr>\n",
       "  </thead>\n",
       "  <tbody>\n",
       "    <tr>\n",
       "      <th>0</th>\n",
       "      <td>39</td>\n",
       "      <td>State-gov</td>\n",
       "      <td>77516</td>\n",
       "      <td>Bachelors</td>\n",
       "      <td>13</td>\n",
       "      <td>Never-married</td>\n",
       "      <td>Adm-clerical</td>\n",
       "      <td>Not-in-family</td>\n",
       "      <td>White</td>\n",
       "      <td>Male</td>\n",
       "      <td>2174</td>\n",
       "      <td>0</td>\n",
       "      <td>40</td>\n",
       "      <td>United-States</td>\n",
       "      <td>&lt;=50K</td>\n",
       "    </tr>\n",
       "    <tr>\n",
       "      <th>1</th>\n",
       "      <td>50</td>\n",
       "      <td>Self-emp-not-inc</td>\n",
       "      <td>83311</td>\n",
       "      <td>Bachelors</td>\n",
       "      <td>13</td>\n",
       "      <td>Married-civ-spouse</td>\n",
       "      <td>Exec-managerial</td>\n",
       "      <td>Husband</td>\n",
       "      <td>White</td>\n",
       "      <td>Male</td>\n",
       "      <td>0</td>\n",
       "      <td>0</td>\n",
       "      <td>13</td>\n",
       "      <td>United-States</td>\n",
       "      <td>&lt;=50K</td>\n",
       "    </tr>\n",
       "    <tr>\n",
       "      <th>2</th>\n",
       "      <td>38</td>\n",
       "      <td>Private</td>\n",
       "      <td>215646</td>\n",
       "      <td>HS-grad</td>\n",
       "      <td>9</td>\n",
       "      <td>Divorced</td>\n",
       "      <td>Handlers-cleaners</td>\n",
       "      <td>Not-in-family</td>\n",
       "      <td>White</td>\n",
       "      <td>Male</td>\n",
       "      <td>0</td>\n",
       "      <td>0</td>\n",
       "      <td>40</td>\n",
       "      <td>United-States</td>\n",
       "      <td>&lt;=50K</td>\n",
       "    </tr>\n",
       "    <tr>\n",
       "      <th>3</th>\n",
       "      <td>53</td>\n",
       "      <td>Private</td>\n",
       "      <td>234721</td>\n",
       "      <td>11th</td>\n",
       "      <td>7</td>\n",
       "      <td>Married-civ-spouse</td>\n",
       "      <td>Handlers-cleaners</td>\n",
       "      <td>Husband</td>\n",
       "      <td>Black</td>\n",
       "      <td>Male</td>\n",
       "      <td>0</td>\n",
       "      <td>0</td>\n",
       "      <td>40</td>\n",
       "      <td>United-States</td>\n",
       "      <td>&lt;=50K</td>\n",
       "    </tr>\n",
       "    <tr>\n",
       "      <th>4</th>\n",
       "      <td>28</td>\n",
       "      <td>Private</td>\n",
       "      <td>338409</td>\n",
       "      <td>Bachelors</td>\n",
       "      <td>13</td>\n",
       "      <td>Married-civ-spouse</td>\n",
       "      <td>Prof-specialty</td>\n",
       "      <td>Wife</td>\n",
       "      <td>Black</td>\n",
       "      <td>Female</td>\n",
       "      <td>0</td>\n",
       "      <td>0</td>\n",
       "      <td>40</td>\n",
       "      <td>Cuba</td>\n",
       "      <td>&lt;=50K</td>\n",
       "    </tr>\n",
       "  </tbody>\n",
       "</table>\n",
       "</div>"
      ],
      "text/plain": [
       "   age          workclass   fnlgt   education   education-num  \\\n",
       "0   39          State-gov   77516   Bachelors              13   \n",
       "1   50   Self-emp-not-inc   83311   Bachelors              13   \n",
       "2   38            Private  215646     HS-grad               9   \n",
       "3   53            Private  234721        11th               7   \n",
       "4   28            Private  338409   Bachelors              13   \n",
       "\n",
       "        marital-status          occupation    relationship    race      sex  \\\n",
       "0        Never-married        Adm-clerical   Not-in-family   White     Male   \n",
       "1   Married-civ-spouse     Exec-managerial         Husband   White     Male   \n",
       "2             Divorced   Handlers-cleaners   Not-in-family   White     Male   \n",
       "3   Married-civ-spouse   Handlers-cleaners         Husband   Black     Male   \n",
       "4   Married-civ-spouse      Prof-specialty            Wife   Black   Female   \n",
       "\n",
       "    capital-gain   capital-loss   hours-per-week  native-country  salary  \n",
       "0           2174              0               40   United-States   <=50K  \n",
       "1              0              0               13   United-States   <=50K  \n",
       "2              0              0               40   United-States   <=50K  \n",
       "3              0              0               40   United-States   <=50K  \n",
       "4              0              0               40            Cuba   <=50K  "
      ]
     },
     "execution_count": 3,
     "metadata": {},
     "output_type": "execute_result"
    }
   ],
   "source": [
    "\n",
    "#data = pd.read_csv(data_folder/'raw/Train.csv')\n",
    "data = pd.read_csv(\"/Users/joaosantos/Documents/Study/ML_DevOps/DeployProject/data/census.csv\")\n",
    "# rows and columns of the data\n",
    "print(data.shape)\n",
    "\n",
    "# visualise the dataset\n",
    "data.head()"
   ]
  },
  {
   "cell_type": "code",
   "execution_count": 4,
   "metadata": {
    "ExecuteTime": {
     "end_time": "2020-11-18T17:04:37.824774Z",
     "start_time": "2020-11-18T17:04:37.819326Z"
    }
   },
   "outputs": [
    {
     "data": {
      "text/plain": [
       "32561"
      ]
     },
     "execution_count": 4,
     "metadata": {},
     "output_type": "execute_result"
    }
   ],
   "source": [
    "len(data)"
   ]
  },
  {
   "cell_type": "code",
   "execution_count": 5,
   "metadata": {
    "ExecuteTime": {
     "end_time": "2020-11-18T17:04:37.846585Z",
     "start_time": "2020-11-18T17:04:37.827130Z"
    }
   },
   "outputs": [
    {
     "name": "stdout",
     "output_type": "stream",
     "text": [
      "Your selected dataframe has 15 columns.\n",
      "There are 0 columns that have missing values.\n"
     ]
    },
    {
     "data": {
      "text/html": [
       "<div>\n",
       "<style scoped>\n",
       "    .dataframe tbody tr th:only-of-type {\n",
       "        vertical-align: middle;\n",
       "    }\n",
       "\n",
       "    .dataframe tbody tr th {\n",
       "        vertical-align: top;\n",
       "    }\n",
       "\n",
       "    .dataframe thead th {\n",
       "        text-align: right;\n",
       "    }\n",
       "</style>\n",
       "<table border=\"1\" class=\"dataframe\">\n",
       "  <thead>\n",
       "    <tr style=\"text-align: right;\">\n",
       "      <th></th>\n",
       "      <th>Missing Values</th>\n",
       "      <th>% of Total Values</th>\n",
       "    </tr>\n",
       "  </thead>\n",
       "  <tbody>\n",
       "  </tbody>\n",
       "</table>\n",
       "</div>"
      ],
      "text/plain": [
       "Empty DataFrame\n",
       "Columns: [Missing Values, % of Total Values]\n",
       "Index: []"
      ]
     },
     "execution_count": 5,
     "metadata": {},
     "output_type": "execute_result"
    }
   ],
   "source": [
    "# Check if missing values\n",
    "def missing_values_table(df):\n",
    "        mis_val = df.isnull().sum()\n",
    "        mis_val_percent = 100 * df.isnull().sum() / len(df)\n",
    "        mis_val_table = pd.concat([mis_val, mis_val_percent], axis=1)\n",
    "        mis_val_table_ren_columns = mis_val_table.rename(\n",
    "        columns = {0 : 'Missing Values', 1 : '% of Total Values'})\n",
    "        mis_val_table_ren_columns = mis_val_table_ren_columns[\n",
    "            mis_val_table_ren_columns.iloc[:,1] != 0].sort_values(\n",
    "        '% of Total Values', ascending=False).round(1)\n",
    "        print (\"Your selected dataframe has \" + str(df.shape[1]) + \" columns.\\n\"      \n",
    "            \"There are \" + str(mis_val_table_ren_columns.shape[0]) +\n",
    "              \" columns that have missing values.\")\n",
    "        return mis_val_table_ren_columns\n",
    "# source: https://stackoverflow.com/questions/26266362/how-to-count-the-nan-values-in-a-column-in-pandas-dataframe\n",
    "\n",
    "missing_values_table(data)"
   ]
  },
  {
   "cell_type": "code",
   "execution_count": 6,
   "metadata": {
    "ExecuteTime": {
     "end_time": "2020-11-18T17:04:37.882905Z",
     "start_time": "2020-11-18T17:04:37.848849Z"
    }
   },
   "outputs": [
    {
     "data": {
      "text/html": [
       "<div>\n",
       "<style scoped>\n",
       "    .dataframe tbody tr th:only-of-type {\n",
       "        vertical-align: middle;\n",
       "    }\n",
       "\n",
       "    .dataframe tbody tr th {\n",
       "        vertical-align: top;\n",
       "    }\n",
       "\n",
       "    .dataframe thead th {\n",
       "        text-align: right;\n",
       "    }\n",
       "</style>\n",
       "<table border=\"1\" class=\"dataframe\">\n",
       "  <thead>\n",
       "    <tr style=\"text-align: right;\">\n",
       "      <th></th>\n",
       "      <th>Feature</th>\n",
       "      <th>BaseFeatureType</th>\n",
       "      <th>AnalysisFeatureType</th>\n",
       "    </tr>\n",
       "  </thead>\n",
       "  <tbody>\n",
       "    <tr>\n",
       "      <th>0</th>\n",
       "      <td>age</td>\n",
       "      <td>Continuous</td>\n",
       "      <td>Continuous</td>\n",
       "    </tr>\n",
       "    <tr>\n",
       "      <th>1</th>\n",
       "      <td>workclass</td>\n",
       "      <td>Nominal</td>\n",
       "      <td>Categorical-Nominal</td>\n",
       "    </tr>\n",
       "    <tr>\n",
       "      <th>2</th>\n",
       "      <td>fnlgt</td>\n",
       "      <td>Ordinal</td>\n",
       "      <td>Continuous-Ordinal</td>\n",
       "    </tr>\n",
       "    <tr>\n",
       "      <th>3</th>\n",
       "      <td>education</td>\n",
       "      <td>Nominal</td>\n",
       "      <td>Categorical-Nominal</td>\n",
       "    </tr>\n",
       "    <tr>\n",
       "      <th>4</th>\n",
       "      <td>education-num</td>\n",
       "      <td>Continuous</td>\n",
       "      <td>Continuous</td>\n",
       "    </tr>\n",
       "    <tr>\n",
       "      <th>5</th>\n",
       "      <td>marital-status</td>\n",
       "      <td>Nominal</td>\n",
       "      <td>Categorical-Nominal</td>\n",
       "    </tr>\n",
       "    <tr>\n",
       "      <th>6</th>\n",
       "      <td>occupation</td>\n",
       "      <td>Nominal</td>\n",
       "      <td>Categorical-Nominal</td>\n",
       "    </tr>\n",
       "    <tr>\n",
       "      <th>7</th>\n",
       "      <td>relationship</td>\n",
       "      <td>Nominal</td>\n",
       "      <td>Categorical-Nominal</td>\n",
       "    </tr>\n",
       "    <tr>\n",
       "      <th>8</th>\n",
       "      <td>race</td>\n",
       "      <td>Nominal</td>\n",
       "      <td>Categorical-Nominal</td>\n",
       "    </tr>\n",
       "    <tr>\n",
       "      <th>9</th>\n",
       "      <td>sex</td>\n",
       "      <td>Category-Binary</td>\n",
       "      <td>Binary</td>\n",
       "    </tr>\n",
       "    <tr>\n",
       "      <th>10</th>\n",
       "      <td>capital-gain</td>\n",
       "      <td>Continuous</td>\n",
       "      <td>Continuous</td>\n",
       "    </tr>\n",
       "    <tr>\n",
       "      <th>11</th>\n",
       "      <td>capital-loss</td>\n",
       "      <td>Continuous</td>\n",
       "      <td>Continuous</td>\n",
       "    </tr>\n",
       "    <tr>\n",
       "      <th>12</th>\n",
       "      <td>hours-per-week</td>\n",
       "      <td>Continuous</td>\n",
       "      <td>Continuous</td>\n",
       "    </tr>\n",
       "    <tr>\n",
       "      <th>13</th>\n",
       "      <td>native-country</td>\n",
       "      <td>Nominal</td>\n",
       "      <td>Categorical-Nominal</td>\n",
       "    </tr>\n",
       "    <tr>\n",
       "      <th>14</th>\n",
       "      <td>salary</td>\n",
       "      <td>Category-Binary</td>\n",
       "      <td>Binary</td>\n",
       "    </tr>\n",
       "  </tbody>\n",
       "</table>\n",
       "</div>"
      ],
      "text/plain": [
       "            Feature  BaseFeatureType  AnalysisFeatureType\n",
       "0               age       Continuous           Continuous\n",
       "1         workclass          Nominal  Categorical-Nominal\n",
       "2             fnlgt          Ordinal   Continuous-Ordinal\n",
       "3         education          Nominal  Categorical-Nominal\n",
       "4     education-num       Continuous           Continuous\n",
       "5    marital-status          Nominal  Categorical-Nominal\n",
       "6        occupation          Nominal  Categorical-Nominal\n",
       "7      relationship          Nominal  Categorical-Nominal\n",
       "8              race          Nominal  Categorical-Nominal\n",
       "9               sex  Category-Binary               Binary\n",
       "10     capital-gain       Continuous           Continuous\n",
       "11     capital-loss       Continuous           Continuous\n",
       "12   hours-per-week       Continuous           Continuous\n",
       "13   native-country          Nominal  Categorical-Nominal\n",
       "14           salary  Category-Binary               Binary"
      ]
     },
     "execution_count": 6,
     "metadata": {},
     "output_type": "execute_result"
    }
   ],
   "source": [
    "# Find Continuous and Categorical Features\n",
    "def featureType(df):\n",
    "    import numpy as np \n",
    "    from pandas.api.types import is_numeric_dtype\n",
    "\n",
    "    columns = df.columns\n",
    "    rows= len(df)\n",
    "    colTypeBase=[]\n",
    "    colType=[]\n",
    "    for col in columns:\n",
    "        try:\n",
    "            try:\n",
    "                uniq=len(np.unique(df[col]))\n",
    "            except:\n",
    "                 uniq=len(df.groupby(col)[col].count())\n",
    "            if rows>10:\n",
    "                if is_numeric_dtype(df[col]):\n",
    "                    \n",
    "                    if uniq==1:\n",
    "                        colType.append('Unary')\n",
    "                        colTypeBase.append('Unary')\n",
    "                    elif uniq==2:\n",
    "                        colType.append('Binary')\n",
    "                        colTypeBase.append('Binary')\n",
    "                    elif rows/uniq>3 and uniq>5:\n",
    "                        colType.append('Continuous')\n",
    "                        colTypeBase.append('Continuous')\n",
    "                    else:\n",
    "                        colType.append('Continuous-Ordinal')\n",
    "                        colTypeBase.append('Ordinal')\n",
    "                else:\n",
    "                    if uniq==1:\n",
    "                        colType.append('Unary')\n",
    "                        colTypeBase.append('Category-Unary')\n",
    "                    elif uniq==2:\n",
    "                        colType.append('Binary')\n",
    "                        colTypeBase.append('Category-Binary')\n",
    "                    else:\n",
    "                        colType.append('Categorical-Nominal')\n",
    "                        colTypeBase.append('Nominal')\n",
    "            else:\n",
    "                if is_numeric_dtype(df[col]):\n",
    "                    colType.append('Numeric')\n",
    "                    colTypeBase.append('Numeric')\n",
    "                else:\n",
    "                    colType.append('Non-numeric')\n",
    "                    colTypeBase.append('Non-numeric')\n",
    "        except:\n",
    "            colType.append('Issue')\n",
    "                \n",
    "    # Create dataframe    \n",
    "    df_out =pd.DataFrame({'Feature':columns,\n",
    "                          'BaseFeatureType':colTypeBase,\n",
    "                        'AnalysisFeatureType':colType})\n",
    "    return df_out\n",
    "\n",
    "featureType(data)  "
   ]
  },
  {
   "cell_type": "code",
   "execution_count": 7,
   "metadata": {
    "ExecuteTime": {
     "end_time": "2020-11-18T17:04:37.888170Z",
     "start_time": "2020-11-18T17:04:37.885003Z"
    }
   },
   "outputs": [],
   "source": [
    "#import pandas_profiling\n",
    "#data.profile_report()"
   ]
  },
  {
   "cell_type": "markdown",
   "metadata": {},
   "source": [
    "# Understand Types"
   ]
  },
  {
   "cell_type": "code",
   "execution_count": 8,
   "metadata": {
    "ExecuteTime": {
     "end_time": "2020-11-18T17:04:37.897732Z",
     "start_time": "2020-11-18T17:04:37.892670Z"
    }
   },
   "outputs": [
    {
     "data": {
      "text/plain": [
       "age                 int64\n",
       " workclass         object\n",
       " fnlgt              int64\n",
       " education         object\n",
       " education-num      int64\n",
       " marital-status    object\n",
       " occupation        object\n",
       " relationship      object\n",
       " race              object\n",
       " sex               object\n",
       " capital-gain       int64\n",
       " capital-loss       int64\n",
       " hours-per-week     int64\n",
       " native-country    object\n",
       " salary            object\n",
       "dtype: object"
      ]
     },
     "execution_count": 8,
     "metadata": {},
     "output_type": "execute_result"
    }
   ],
   "source": [
    "# let's inspect the type of variables in pandas\n",
    "data.dtypes"
   ]
  },
  {
   "cell_type": "code",
   "execution_count": 9,
   "metadata": {
    "ExecuteTime": {
     "end_time": "2020-11-18T17:04:37.919522Z",
     "start_time": "2020-11-18T17:04:37.901573Z"
    }
   },
   "outputs": [
    {
     "name": "stdout",
     "output_type": "stream",
     "text": [
      "age [39 50 38 53 28 37 49 52 31 42 30 23 32 40 34 25 43 54 35 59] \n",
      "\n",
      " workclass [' State-gov' ' Self-emp-not-inc' ' Private' ' Federal-gov' ' Local-gov'\n",
      " ' ?' ' Self-emp-inc' ' Without-pay' ' Never-worked'] \n",
      "\n",
      " fnlgt [ 77516  83311 215646 234721 338409 284582 160187 209642  45781 159449\n",
      " 280464 141297 122272 205019 121772 245487 176756 186824  28887 292175] \n",
      "\n",
      " education [' Bachelors' ' HS-grad' ' 11th' ' Masters' ' 9th' ' Some-college'\n",
      " ' Assoc-acdm' ' Assoc-voc' ' 7th-8th' ' Doctorate' ' Prof-school'\n",
      " ' 5th-6th' ' 10th' ' 1st-4th' ' Preschool' ' 12th'] \n",
      "\n",
      " education-num [13  9  7 14  5 10 12 11  4 16 15  3  6  2  1  8] \n",
      "\n",
      " marital-status [' Never-married' ' Married-civ-spouse' ' Divorced'\n",
      " ' Married-spouse-absent' ' Separated' ' Married-AF-spouse' ' Widowed'] \n",
      "\n",
      " occupation [' Adm-clerical' ' Exec-managerial' ' Handlers-cleaners' ' Prof-specialty'\n",
      " ' Other-service' ' Sales' ' Craft-repair' ' Transport-moving'\n",
      " ' Farming-fishing' ' Machine-op-inspct' ' Tech-support' ' ?'\n",
      " ' Protective-serv' ' Armed-Forces' ' Priv-house-serv'] \n",
      "\n",
      " relationship [' Not-in-family' ' Husband' ' Wife' ' Own-child' ' Unmarried'\n",
      " ' Other-relative'] \n",
      "\n",
      " race [' White' ' Black' ' Asian-Pac-Islander' ' Amer-Indian-Eskimo' ' Other'] \n",
      "\n",
      " sex [' Male' ' Female'] \n",
      "\n",
      " capital-gain [ 2174     0 14084  5178  5013  2407 14344 15024  7688 34095  4064  4386\n",
      "  7298  1409  3674  1055  3464  2050  2176   594] \n",
      "\n",
      " capital-loss [   0 2042 1408 1902 1573 1887 1719 1762 1564 2179 1816 1980 1977 1876\n",
      " 1340 2206 1741 1485 2339 2415] \n",
      "\n",
      " hours-per-week [40 13 16 45 50 80 30 35 60 20 52 44 15 25 38 43 55 48 58 32] \n",
      "\n",
      " native-country [' United-States' ' Cuba' ' Jamaica' ' India' ' ?' ' Mexico' ' South'\n",
      " ' Puerto-Rico' ' Honduras' ' England' ' Canada' ' Germany' ' Iran'\n",
      " ' Philippines' ' Italy' ' Poland' ' Columbia' ' Cambodia' ' Thailand'\n",
      " ' Ecuador'] \n",
      "\n",
      " salary [' <=50K' ' >50K'] \n",
      "\n"
     ]
    }
   ],
   "source": [
    "# let's inspect the variable values\n",
    "for var in data.columns:\n",
    "    print(var, data[var].unique()[0:20], '\\n')"
   ]
  },
  {
   "cell_type": "markdown",
   "metadata": {},
   "source": [
    "# Distribuition of Target Variable"
   ]
  },
  {
   "cell_type": "code",
   "execution_count": 28,
   "metadata": {
    "ExecuteTime": {
     "end_time": "2020-11-18T17:04:38.037245Z",
     "start_time": "2020-11-18T17:04:37.922147Z"
    }
   },
   "outputs": [
    {
     "data": {
      "text/plain": [
       "<AxesSubplot:xlabel='labels'>"
      ]
     },
     "execution_count": 28,
     "metadata": {},
     "output_type": "execute_result"
    },
    {
     "data": {
      "image/png": "[encoded data removed]",
      "text/plain": [
       "<Figure size 432x288 with 1 Axes>"
      ]
     },
     "metadata": {
      "needs_background": "light"
     },
     "output_type": "display_data"
    }
   ],
   "source": [
    "(data.groupby('labels')['labels'].count() / len(data)).plot.bar()\n"
   ]
  },
  {
   "cell_type": "markdown",
   "metadata": {},
   "source": [
    "# Identify data Types"
   ]
  },
  {
   "cell_type": "code",
   "execution_count": 29,
   "metadata": {
    "ExecuteTime": {
     "end_time": "2020-11-18T17:04:38.063771Z",
     "start_time": "2020-11-18T17:04:38.039510Z"
    }
   },
   "outputs": [
    {
     "name": "stdout",
     "output_type": "stream",
     "text": [
      "There are 0 date variables\n",
      "There are 6 discrete variables\n",
      "There are 0 binary categorical variables\n",
      "There are 4 binary numeric variables\n",
      "There are 11 continuous variables\n",
      "There are 0 categorical variables\n",
      "There are 0 mixed variables\n"
     ]
    }
   ],
   "source": [
    "# make list of variables  types\n",
    "dates = [var for var in data.columns if 'Date' in var or 'Year' in var]\n",
    "\n",
    "\n",
    "# numerical: discrete vs continuous\n",
    "discrete = [var for var in data.columns if data[var].dtype!='O' and var!='label' and 2< data[var].nunique()<20 and var not in dates]\n",
    "continuous = [var for var in data.columns if data[var].dtype!='O' and var!='label' and var not in discrete and var not in dates]\n",
    "binary_num = [var for var in data.columns if data[var].nunique()==2 and  data[var].dtype!='O' and var!='label']\n",
    "binary_cat = [var for var in data.columns if data[var].nunique()==2 and  data[var].dtype=='O' and var!='label']\n",
    "# mixed\n",
    "mixed = []\n",
    "\n",
    "# categorical\n",
    "categorical = [var for var in data.columns if data[var].dtype=='O' and var!='label' and var not in mixed and var not in binary_cat and var not in binary_num]\n",
    "\n",
    "print('There are {} date variables'.format(len(dates)))\n",
    "print('There are {} discrete variables'.format(len(discrete)))\n",
    "print('There are {} binary categorical variables'.format(len(binary_cat)))\n",
    "print('There are {} binary numeric variables'.format(len(binary_num)))\n",
    "print('There are {} continuous variables'.format(len(continuous)))\n",
    "print('There are {} categorical variables'.format(len(categorical)))\n",
    "print('There are {} mixed variables'.format(len(mixed)))\n"
   ]
  },
  {
   "cell_type": "code",
   "execution_count": 30,
   "metadata": {
    "ExecuteTime": {
     "end_time": "2020-11-18T17:04:38.084864Z",
     "start_time": "2020-11-18T17:04:38.067910Z"
    }
   },
   "outputs": [
    {
     "data": {
      "text/plain": [
       "['feature_0',\n",
       " 'feature_1',\n",
       " 'feature_2',\n",
       " 'feature_3',\n",
       " 'feature_4',\n",
       " 'feature_5',\n",
       " 'feature_6',\n",
       " 'feature_10',\n",
       " 'feature_11',\n",
       " 'feature_12',\n",
       " 'labels']"
      ]
     },
     "execution_count": 30,
     "metadata": {},
     "output_type": "execute_result"
    }
   ],
   "source": [
    "continuous"
   ]
  },
  {
   "cell_type": "code",
   "execution_count": 31,
   "metadata": {
    "ExecuteTime": {
     "end_time": "2020-11-18T17:04:38.093151Z",
     "start_time": "2020-11-18T17:04:38.087469Z"
    }
   },
   "outputs": [
    {
     "data": {
      "text/plain": [
       "[]"
      ]
     },
     "execution_count": 31,
     "metadata": {},
     "output_type": "execute_result"
    }
   ],
   "source": [
    "dates"
   ]
  },
  {
   "cell_type": "code",
   "execution_count": 32,
   "metadata": {
    "ExecuteTime": {
     "end_time": "2020-11-18T17:04:38.105114Z",
     "start_time": "2020-11-18T17:04:38.099587Z"
    }
   },
   "outputs": [
    {
     "data": {
      "text/plain": [
       "['feature_7',\n",
       " 'feature_8',\n",
       " 'feature_9',\n",
       " 'feature_13',\n",
       " 'feature_14',\n",
       " 'feature_15']"
      ]
     },
     "execution_count": 32,
     "metadata": {},
     "output_type": "execute_result"
    }
   ],
   "source": [
    "discrete"
   ]
  },
  {
   "cell_type": "code",
   "execution_count": 33,
   "metadata": {
    "ExecuteTime": {
     "end_time": "2020-11-18T17:04:38.121038Z",
     "start_time": "2020-11-18T17:04:38.108841Z"
    }
   },
   "outputs": [
    {
     "data": {
      "text/plain": [
       "[]"
      ]
     },
     "execution_count": 33,
     "metadata": {},
     "output_type": "execute_result"
    }
   ],
   "source": [
    "binary_cat"
   ]
  },
  {
   "cell_type": "code",
   "execution_count": 34,
   "metadata": {
    "ExecuteTime": {
     "end_time": "2020-11-18T17:04:38.130114Z",
     "start_time": "2020-11-18T17:04:38.125281Z"
    }
   },
   "outputs": [
    {
     "data": {
      "text/plain": [
       "['feature_10', 'feature_11', 'feature_12', 'labels']"
      ]
     },
     "execution_count": 34,
     "metadata": {},
     "output_type": "execute_result"
    }
   ],
   "source": [
    "binary_num"
   ]
  },
  {
   "cell_type": "code",
   "execution_count": 35,
   "metadata": {
    "ExecuteTime": {
     "end_time": "2020-11-18T17:04:38.151504Z",
     "start_time": "2020-11-18T17:04:38.132294Z"
    }
   },
   "outputs": [
    {
     "data": {
      "text/plain": [
       "[]"
      ]
     },
     "execution_count": 35,
     "metadata": {},
     "output_type": "execute_result"
    }
   ],
   "source": [
    "categorical"
   ]
  },
  {
   "cell_type": "markdown",
   "metadata": {},
   "source": [
    "# Missing Values analisys"
   ]
  },
  {
   "cell_type": "code",
   "execution_count": 36,
   "metadata": {
    "ExecuteTime": {
     "end_time": "2020-11-18T17:04:38.184339Z",
     "start_time": "2020-11-18T17:04:38.164749Z"
    }
   },
   "outputs": [],
   "source": [
    "# make a list of the variables that contain missing values\n",
    "vars_with_na = [var for var in data.columns if data[var].isnull().sum()>=1]\n",
    "\n",
    "# print the variable name and the percentage of missing values\n",
    "for var in vars_with_na:\n",
    "    print(var, np.round(data[var].isnull().mean(), 3),  ' % missing values')\n",
    "    "
   ]
  },
  {
   "cell_type": "code",
   "execution_count": 37,
   "metadata": {
    "ExecuteTime": {
     "end_time": "2020-11-18T17:04:38.192590Z",
     "start_time": "2020-11-18T17:04:38.186780Z"
    },
    "scrolled": true
   },
   "outputs": [],
   "source": [
    "def analyse_na_value(df, var):\n",
    "    df = df.copy()\n",
    "\n",
    "    # let's make a variable that indicates 1 if the observation was missing or zero otherwise\n",
    "    df[var] = np.where(df[var].isnull(), 1, 0)\n",
    "\n",
    "    # let's calculate the mean SalePrice where the information is missing or present\n",
    "    df.groupby(var)['label'].count().plot.bar()\n",
    "    plt.title(var)\n",
    "    plt.show()\n",
    "\n",
    "\n",
    "for var in vars_with_na:\n",
    "    analyse_na_value(data, var)\n",
    "    "
   ]
  },
  {
   "cell_type": "markdown",
   "metadata": {},
   "source": [
    "# Cardinality (number of different categories)"
   ]
  },
  {
   "cell_type": "code",
   "execution_count": 38,
   "metadata": {
    "ExecuteTime": {
     "end_time": "2020-11-18T17:04:38.207035Z",
     "start_time": "2020-11-18T17:04:38.194999Z"
    }
   },
   "outputs": [
    {
     "data": {
      "text/plain": [
       "feature_7     12\n",
       "feature_8      3\n",
       "feature_9      4\n",
       "feature_13     3\n",
       "feature_14    12\n",
       "feature_15     4\n",
       "dtype: int64"
      ]
     },
     "execution_count": 38,
     "metadata": {},
     "output_type": "execute_result"
    }
   ],
   "source": [
    "# cardinality (number of different categories)\n",
    "\n",
    "data[categorical+mixed+discrete].nunique()"
   ]
  },
  {
   "cell_type": "markdown",
   "metadata": {},
   "source": [
    "# Distribuition of the Variables - Levels"
   ]
  },
  {
   "cell_type": "markdown",
   "metadata": {},
   "source": [
    "## Continuous"
   ]
  },
  {
   "cell_type": "code",
   "execution_count": 39,
   "metadata": {
    "ExecuteTime": {
     "end_time": "2020-11-18T17:04:44.611947Z",
     "start_time": "2020-11-18T17:04:38.209244Z"
    }
   },
   "outputs": [
    {
     "data": {
      "image/png": "[encoded data removed]",
      "text/plain": [
       "<Figure size 432x288 with 2 Axes>"
      ]
     },
     "metadata": {
      "needs_background": "light"
     },
     "output_type": "display_data"
    },
    {
     "data": {
      "image/png": "[encoded data removed]",
      "text/plain": [
       "<Figure size 432x288 with 2 Axes>"
      ]
     },
     "metadata": {
      "needs_background": "light"
     },
     "output_type": "display_data"
    },
    {
     "data": {
      "image/png": "[encoded data removed]",
      "text/plain": [
       "<Figure size 432x288 with 2 Axes>"
      ]
     },
     "metadata": {
      "needs_background": "light"
     },
     "output_type": "display_data"
    },
    {
     "data": {
      "image/png": "[encoded data removed]",
      "text/plain": [
       "<Figure size 432x288 with 2 Axes>"
      ]
     },
     "metadata": {
      "needs_background": "light"
     },
     "output_type": "display_data"
    },
    {
     "data": {
      "image/png": "[encoded data removed]",
      "text/plain": [
       "<Figure size 432x288 with 2 Axes>"
      ]
     },
     "metadata": {
      "needs_background": "light"
     },
     "output_type": "display_data"
    },
    {
     "data": {
      "image/png": "[encoded data removed]",
      "text/plain": [
       "<Figure size 432x288 with 2 Axes>"
      ]
     },
     "metadata": {
      "needs_background": "light"
     },
     "output_type": "display_data"
    },
    {
     "data": {
      "image/png": "[encoded data removed]",
      "text/plain": [
       "<Figure size 432x288 with 2 Axes>"
      ]
     },
     "metadata": {
      "needs_background": "light"
     },
     "output_type": "display_data"
    },
    {
     "data": {
      "image/png": "[encoded data removed]",
      "text/plain": [
       "<Figure size 432x288 with 2 Axes>"
      ]
     },
     "metadata": {
      "needs_background": "light"
     },
     "output_type": "display_data"
    },
    {
     "data": {
      "image/png": "[encoded data removed]",
      "text/plain": [
       "<Figure size 432x288 with 2 Axes>"
      ]
     },
     "metadata": {
      "needs_background": "light"
     },
     "output_type": "display_data"
    },
    {
     "data": {
      "image/png": "[encoded data removed]",
      "text/plain": [
       "<Figure size 432x288 with 2 Axes>"
      ]
     },
     "metadata": {
      "needs_background": "light"
     },
     "output_type": "display_data"
    },
    {
     "data": {
      "image/png": "[encoded data removed]",
      "text/plain": [
       "<Figure size 432x288 with 2 Axes>"
      ]
     },
     "metadata": {
      "needs_background": "light"
     },
     "output_type": "display_data"
    }
   ],
   "source": [
    "# let's make boxplots to visualise outliers in the continuous variables \n",
    "# and histograms to get an idea of the distribution\n",
    "\n",
    "for var in continuous:\n",
    "    plt.figure(figsize=(6,4))\n",
    "    plt.subplot(1, 2, 1)\n",
    "    fig = data.boxplot(column=var)\n",
    "    fig.set_title('')\n",
    "    fig.set_ylabel(var)\n",
    "    \n",
    "    plt.subplot(1, 2, 2)\n",
    "    fig = data[var].hist(bins=200)\n",
    "    fig.set_ylabel('Number of Quotes')\n",
    "    fig.set_xlabel(var)\n",
    "\n",
    "    plt.show()"
   ]
  },
  {
   "cell_type": "markdown",
   "metadata": {},
   "source": [
    "## Discrete"
   ]
  },
  {
   "cell_type": "code",
   "execution_count": 40,
   "metadata": {
    "ExecuteTime": {
     "end_time": "2020-11-18T17:04:46.127981Z",
     "start_time": "2020-11-18T17:04:44.630319Z"
    }
   },
   "outputs": [
    {
     "data": {
      "image/png": "[encoded data removed]",
      "text/plain": [
       "<Figure size 432x288 with 1 Axes>"
      ]
     },
     "metadata": {
      "needs_background": "light"
     },
     "output_type": "display_data"
    },
    {
     "data": {
      "image/png": "[encoded data removed]",
      "text/plain": [
       "<Figure size 432x288 with 1 Axes>"
      ]
     },
     "metadata": {
      "needs_background": "light"
     },
     "output_type": "display_data"
    },
    {
     "data": {
      "image/png": "[encoded data removed]",
      "text/plain": [
       "<Figure size 432x288 with 1 Axes>"
      ]
     },
     "metadata": {
      "needs_background": "light"
     },
     "output_type": "display_data"
    },
    {
     "data": {
      "image/png": "[encoded data removed]",
      "text/plain": [
       "<Figure size 432x288 with 1 Axes>"
      ]
     },
     "metadata": {
      "needs_background": "light"
     },
     "output_type": "display_data"
    },
    {
     "data": {
      "image/png": "[encoded data removed]",
      "text/plain": [
       "<Figure size 432x288 with 1 Axes>"
      ]
     },
     "metadata": {
      "needs_background": "light"
     },
     "output_type": "display_data"
    },
    {
     "data": {
      "image/png": "[encoded data removed]",
      "text/plain": [
       "<Figure size 432x288 with 1 Axes>"
      ]
     },
     "metadata": {
      "needs_background": "light"
     },
     "output_type": "display_data"
    }
   ],
   "source": [
    "# outliers in discrete variables\n",
    "for var in discrete+categorical:\n",
    "    (data.groupby(var)[var].count() / np.float(len(data))).plot.bar()\n",
    "    plt.ylabel('Percentage of observations per label')\n",
    "    plt.title(var)\n",
    "    plt.show()"
   ]
  },
  {
   "cell_type": "markdown",
   "metadata": {},
   "source": [
    "# Binary data"
   ]
  },
  {
   "cell_type": "code",
   "execution_count": 41,
   "metadata": {
    "ExecuteTime": {
     "end_time": "2020-11-18T17:04:46.943062Z",
     "start_time": "2020-11-18T17:04:46.135887Z"
    }
   },
   "outputs": [
    {
     "data": {
      "image/png": "[encoded data removed]",
      "text/plain": [
       "<Figure size 432x288 with 1 Axes>"
      ]
     },
     "metadata": {
      "needs_background": "light"
     },
     "output_type": "display_data"
    },
    {
     "data": {
      "image/png": "[encoded data removed]",
      "text/plain": [
       "<Figure size 432x288 with 1 Axes>"
      ]
     },
     "metadata": {
      "needs_background": "light"
     },
     "output_type": "display_data"
    },
    {
     "data": {
      "image/png": "[encoded data removed]",
      "text/plain": [
       "<Figure size 432x288 with 1 Axes>"
      ]
     },
     "metadata": {
      "needs_background": "light"
     },
     "output_type": "display_data"
    },
    {
     "data": {
      "image/png": "[encoded data removed]",
      "text/plain": [
       "<Figure size 432x288 with 1 Axes>"
      ]
     },
     "metadata": {
      "needs_background": "light"
     },
     "output_type": "display_data"
    }
   ],
   "source": [
    "# outliers in discrete variables\n",
    "for var in binary_num+binary_cat:\n",
    "    (data.groupby(var)[var].count() / np.float(len(data))).plot.bar()\n",
    "    plt.ylabel('Percentage of observations per label')\n",
    "    plt.title(var)\n",
    "    plt.show()"
   ]
  },
  {
   "cell_type": "markdown",
   "metadata": {},
   "source": [
    "## Rare Labels"
   ]
  },
  {
   "cell_type": "code",
   "execution_count": 42,
   "metadata": {
    "ExecuteTime": {
     "end_time": "2020-11-18T17:04:46.974429Z",
     "start_time": "2020-11-18T17:04:46.951583Z"
    }
   },
   "outputs": [],
   "source": [
    "#def analyse_rare_labels(df, var, rare_perc):\n",
    "#    df = df.copy()\n",
    "#    tmp = df.groupby(var)['SalePrice'].count() / len(df)\n",
    "#    return tmp[tmp<rare_perc]\n",
    "\n",
    "#for var in categorical:\n",
    "#    print(analyse_rare_labels(data, var, 0.01))\n",
    "#    print()"
   ]
  },
  {
   "cell_type": "code",
   "execution_count": 43,
   "metadata": {
    "ExecuteTime": {
     "end_time": "2020-11-18T17:04:46.984557Z",
     "start_time": "2020-11-18T17:04:46.978003Z"
    }
   },
   "outputs": [],
   "source": [
    "#for var in categorical:\n",
    "#    plt.figure(figsize=(6,4))\n",
    "#    plt.subplot(1, 2, 1)\n",
    "#    fig1 = data.groupby([var,'QuoteConversion_Flag']).size().unstack().plot(kind='bar', stacked=True)\n",
    "#    fig1.set_title('')\n",
    "#    fig1.set_ylabel(var)\n",
    "    \n",
    "#    plt.subplot(1, 2, 2)\n",
    "#    fig2 = data.groupby([var])['QuoteConversion_Flag'].mean().plot.bar()\n",
    "    #fig.set_ylabel('% of Conversions')\n",
    "    #fig.set_xlabel(var)\n",
    "#    plt.show()"
   ]
  },
  {
   "cell_type": "markdown",
   "metadata": {},
   "source": [
    "## Split the data"
   ]
  },
  {
   "cell_type": "markdown",
   "metadata": {},
   "source": [
    "### Get the variables types updated"
   ]
  },
  {
   "cell_type": "code",
   "execution_count": 44,
   "metadata": {
    "ExecuteTime": {
     "end_time": "2020-11-18T17:04:47.064314Z",
     "start_time": "2020-11-18T17:04:46.988199Z"
    }
   },
   "outputs": [
    {
     "name": "stdout",
     "output_type": "stream",
     "text": [
      "There are 0 date variables\n",
      "There are 6 discrete variables\n",
      "There are 0 binary categorical variables\n",
      "There are 4 binary numeric variables\n",
      "There are 11 continuous variables\n",
      "There are 0 categorical variables\n",
      "There are 0 mixed variables\n"
     ]
    }
   ],
   "source": [
    "# make list of variables  types\n",
    "dates = [var for var in data.columns if 'Date' in var or 'Year' in var]\n",
    "\n",
    "\n",
    "# numerical: discrete vs continuous\n",
    "discrete = [var for var in data.columns if data[var].dtype!='O' and var!='label' and 2< data[var].nunique()<15 and var not in dates]\n",
    "continuous = [var for var in data.columns if data[var].dtype!='O' and var!='label' and var not in discrete and var not in dates]\n",
    "binary_num = [var for var in data.columns if data[var].nunique()==2 and  data[var].dtype!='O' and var!='label']\n",
    "binary_cat = [var for var in data.columns if data[var].nunique()==2 and  data[var].dtype=='O' and var!='label']\n",
    "# mixed\n",
    "mixed = []\n",
    "\n",
    "# categorical\n",
    "categorical = [var for var in data.columns if data[var].dtype=='O' and var!='label' and var not in mixed and var not in binary_cat and var not in binary_num]\n",
    "\n",
    "print('There are {} date variables'.format(len(dates)))\n",
    "print('There are {} discrete variables'.format(len(discrete)))\n",
    "print('There are {} binary categorical variables'.format(len(binary_cat)))\n",
    "print('There are {} binary numeric variables'.format(len(binary_num)))\n",
    "print('There are {} continuous variables'.format(len(continuous)))\n",
    "print('There are {} categorical variables'.format(len(categorical)))\n",
    "print('There are {} mixed variables'.format(len(mixed)))"
   ]
  },
  {
   "cell_type": "markdown",
   "metadata": {},
   "source": [
    "# Separate into train and test set"
   ]
  },
  {
   "cell_type": "code",
   "execution_count": 45,
   "metadata": {
    "ExecuteTime": {
     "end_time": "2020-11-18T17:04:47.107616Z",
     "start_time": "2020-11-18T17:04:47.082538Z"
    }
   },
   "outputs": [
    {
     "data": {
      "text/plain": [
       "((23735, 16), (10173, 16))"
      ]
     },
     "execution_count": 45,
     "metadata": {},
     "output_type": "execute_result"
    }
   ],
   "source": [
    "# Let's separate into train and test set\n",
    "X_train, X_test, y_train, y_test = train_test_split(data.drop(['labels'], axis=1),\n",
    "                                                    data['labels'],\n",
    "                                                    test_size=0.3,\n",
    "                                                    random_state=0)\n",
    "\n",
    "X_train.shape, X_test.shape"
   ]
  },
  {
   "cell_type": "code",
   "execution_count": 46,
   "metadata": {
    "ExecuteTime": {
     "end_time": "2020-11-18T17:04:47.130100Z",
     "start_time": "2020-11-18T17:04:47.111374Z"
    }
   },
   "outputs": [
    {
     "data": {
      "text/html": [
       "<div>\n",
       "<style scoped>\n",
       "    .dataframe tbody tr th:only-of-type {\n",
       "        vertical-align: middle;\n",
       "    }\n",
       "\n",
       "    .dataframe tbody tr th {\n",
       "        vertical-align: top;\n",
       "    }\n",
       "\n",
       "    .dataframe thead th {\n",
       "        text-align: right;\n",
       "    }\n",
       "</style>\n",
       "<table border=\"1\" class=\"dataframe\">\n",
       "  <thead>\n",
       "    <tr style=\"text-align: right;\">\n",
       "      <th></th>\n",
       "      <th>feature_0</th>\n",
       "      <th>feature_1</th>\n",
       "      <th>feature_2</th>\n",
       "      <th>feature_3</th>\n",
       "      <th>feature_4</th>\n",
       "      <th>feature_5</th>\n",
       "      <th>feature_6</th>\n",
       "      <th>feature_7</th>\n",
       "      <th>feature_8</th>\n",
       "      <th>feature_9</th>\n",
       "      <th>feature_10</th>\n",
       "      <th>feature_11</th>\n",
       "      <th>feature_12</th>\n",
       "      <th>feature_13</th>\n",
       "      <th>feature_14</th>\n",
       "      <th>feature_15</th>\n",
       "    </tr>\n",
       "  </thead>\n",
       "  <tbody>\n",
       "    <tr>\n",
       "      <th>32360</th>\n",
       "      <td>-0.370689</td>\n",
       "      <td>0.772721</td>\n",
       "      <td>0.503892</td>\n",
       "      <td>-0.979179</td>\n",
       "      <td>4.595294</td>\n",
       "      <td>-0.411453</td>\n",
       "      <td>-0.25194</td>\n",
       "      <td>7</td>\n",
       "      <td>2</td>\n",
       "      <td>0</td>\n",
       "      <td>0</td>\n",
       "      <td>1</td>\n",
       "      <td>0</td>\n",
       "      <td>2</td>\n",
       "      <td>6</td>\n",
       "      <td>3</td>\n",
       "    </tr>\n",
       "    <tr>\n",
       "      <th>20382</th>\n",
       "      <td>2.266183</td>\n",
       "      <td>0.268243</td>\n",
       "      <td>-1.418634</td>\n",
       "      <td>-0.567569</td>\n",
       "      <td>1.367391</td>\n",
       "      <td>-0.411453</td>\n",
       "      <td>-0.25194</td>\n",
       "      <td>3</td>\n",
       "      <td>1</td>\n",
       "      <td>0</td>\n",
       "      <td>0</td>\n",
       "      <td>1</td>\n",
       "      <td>0</td>\n",
       "      <td>0</td>\n",
       "      <td>11</td>\n",
       "      <td>3</td>\n",
       "    </tr>\n",
       "    <tr>\n",
       "      <th>14911</th>\n",
       "      <td>-1.029906</td>\n",
       "      <td>-0.456287</td>\n",
       "      <td>0.263576</td>\n",
       "      <td>-0.750075</td>\n",
       "      <td>-0.569351</td>\n",
       "      <td>-0.411453</td>\n",
       "      <td>-0.25194</td>\n",
       "      <td>7</td>\n",
       "      <td>1</td>\n",
       "      <td>1</td>\n",
       "      <td>0</td>\n",
       "      <td>1</td>\n",
       "      <td>0</td>\n",
       "      <td>0</td>\n",
       "      <td>5</td>\n",
       "      <td>3</td>\n",
       "    </tr>\n",
       "    <tr>\n",
       "      <th>31694</th>\n",
       "      <td>-0.182341</td>\n",
       "      <td>-0.447419</td>\n",
       "      <td>1.585313</td>\n",
       "      <td>-0.287984</td>\n",
       "      <td>-0.246560</td>\n",
       "      <td>-0.411453</td>\n",
       "      <td>-0.25194</td>\n",
       "      <td>4</td>\n",
       "      <td>1</td>\n",
       "      <td>2</td>\n",
       "      <td>0</td>\n",
       "      <td>1</td>\n",
       "      <td>0</td>\n",
       "      <td>2</td>\n",
       "      <td>8</td>\n",
       "      <td>3</td>\n",
       "    </tr>\n",
       "    <tr>\n",
       "      <th>8584</th>\n",
       "      <td>0.382703</td>\n",
       "      <td>-0.457272</td>\n",
       "      <td>-1.178318</td>\n",
       "      <td>-0.361763</td>\n",
       "      <td>-0.246560</td>\n",
       "      <td>-0.411453</td>\n",
       "      <td>-0.25194</td>\n",
       "      <td>6</td>\n",
       "      <td>1</td>\n",
       "      <td>1</td>\n",
       "      <td>0</td>\n",
       "      <td>1</td>\n",
       "      <td>1</td>\n",
       "      <td>2</td>\n",
       "      <td>6</td>\n",
       "      <td>3</td>\n",
       "    </tr>\n",
       "  </tbody>\n",
       "</table>\n",
       "</div>"
      ],
      "text/plain": [
       "       feature_0  feature_1  feature_2  feature_3  feature_4  feature_5  \\\n",
       "32360  -0.370689   0.772721   0.503892  -0.979179   4.595294  -0.411453   \n",
       "20382   2.266183   0.268243  -1.418634  -0.567569   1.367391  -0.411453   \n",
       "14911  -1.029906  -0.456287   0.263576  -0.750075  -0.569351  -0.411453   \n",
       "31694  -0.182341  -0.447419   1.585313  -0.287984  -0.246560  -0.411453   \n",
       "8584    0.382703  -0.457272  -1.178318  -0.361763  -0.246560  -0.411453   \n",
       "\n",
       "       feature_6  feature_7  feature_8  feature_9  feature_10  feature_11  \\\n",
       "32360   -0.25194          7          2          0           0           1   \n",
       "20382   -0.25194          3          1          0           0           1   \n",
       "14911   -0.25194          7          1          1           0           1   \n",
       "31694   -0.25194          4          1          2           0           1   \n",
       "8584    -0.25194          6          1          1           0           1   \n",
       "\n",
       "       feature_12  feature_13  feature_14  feature_15  \n",
       "32360           0           2           6           3  \n",
       "20382           0           0          11           3  \n",
       "14911           0           0           5           3  \n",
       "31694           0           2           8           3  \n",
       "8584            1           2           6           3  "
      ]
     },
     "execution_count": 46,
     "metadata": {},
     "output_type": "execute_result"
    }
   ],
   "source": [
    "X_train.head()"
   ]
  },
  {
   "cell_type": "markdown",
   "metadata": {},
   "source": [
    "### Save datasets"
   ]
  },
  {
   "cell_type": "code",
   "execution_count": 47,
   "metadata": {
    "ExecuteTime": {
     "end_time": "2020-11-18T17:04:47.739396Z",
     "start_time": "2020-11-18T17:04:47.135890Z"
    }
   },
   "outputs": [],
   "source": [
    "# let's now save the train and test sets for the next notebook!\n",
    "\n",
    "X_train.to_csv(data_folder /'processed/xtrain.csv', index=False, header=True)\n",
    "X_test.to_csv(data_folder /'processed/xtest.csv', index=False, header=True)\n",
    "\n",
    "y_train.to_csv(data_folder /'processed/ytrain.csv', index=False, header=True)\n",
    "y_test.to_csv(data_folder /'processed/ytest.csv', index=False, header=True)"
   ]
  },
  {
   "cell_type": "markdown",
   "metadata": {},
   "source": [
    "missing inputatio for discrete "
   ]
  }
 ],
 "metadata": {
  "@webio": {
   "lastCommId": null,
   "lastKernelId": null
  },
  "kernelspec": {
   "display_name": "Python 3 (ipykernel)",
   "language": "python",
   "name": "python3"
  },
  "language_info": {
   "codemirror_mode": {
    "name": "ipython",
    "version": 3
   },
   "file_extension": ".py",
   "mimetype": "text/x-python",
   "name": "python",
   "nbconvert_exporter": "python",
   "pygments_lexer": "ipython3",
   "version": "3.8.13"
  },
  "toc": {
   "base_numbering": 1,
   "nav_menu": {},
   "number_sections": true,
   "sideBar": true,
   "skip_h1_title": false,
   "title_cell": "Table of Contents",
   "title_sidebar": "Contents",
   "toc_cell": false,
   "toc_position": {},
   "toc_section_display": true,
   "toc_window_display": false
  },
  "varInspector": {
   "cols": {
    "lenName": 16,
    "lenType": 16,
    "lenVar": 40
   },
   "kernels_config": {
    "python": {
     "delete_cmd_postfix": "",
     "delete_cmd_prefix": "del ",
     "library": "var_list.py",
     "varRefreshCmd": "print(var_dic_list())"
    },
    "r": {
     "delete_cmd_postfix": ") ",
     "delete_cmd_prefix": "rm(",
     "library": "var_list.r",
     "varRefreshCmd": "cat(var_dic_list()) "
    }
   },
   "position": {
    "height": "406px",
    "left": "1070px",
    "right": "20px",
    "top": "120px",
    "width": "350px"
   },
   "types_to_exclude": [
    "module",
    "function",
    "builtin_function_or_method",
    "instance",
    "_Feature"
   ],
   "window_display": false
  }
 },
 "nbformat": 4,
 "nbformat_minor": 4
}
